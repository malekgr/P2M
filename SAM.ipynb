{
  "cells": [
    {
      "cell_type": "code",
      "execution_count": null,
      "metadata": {
        "colab": {
          "base_uri": "https://localhost:8080/"
        },
        "id": "oqyuXb-W47tf",
        "outputId": "8bc5bcd6-75db-407d-fd74-a2c622622751"
      },
      "outputs": [
        {
          "name": "stdout",
          "output_type": "stream",
          "text": [
            "Defaulting to user installation because normal site-packages is not writeable\n",
            "Collecting git+https://github.com/facebookresearch/segment-anything.git\n",
            "  Cloning https://github.com/facebookresearch/segment-anything.git to /tmp/pip-req-build-splbt5tf\n",
            "  Running command git clone --filter=blob:none --quiet https://github.com/facebookresearch/segment-anything.git /tmp/pip-req-build-splbt5tf\n",
            "  Resolved https://github.com/facebookresearch/segment-anything.git to commit 6fdee8f2727f4506cfbbe553e23b895e27956588\n",
            "  Preparing metadata (setup.py) ... \u001b[?25ldone\n",
            "\u001b[?25h"
          ]
        }
      ],
      "source": [
        "!pip install git+https://github.com/facebookresearch/segment-anything.git"
      ]
    },
    {
      "cell_type": "code",
      "execution_count": null,
      "metadata": {
        "colab": {
          "base_uri": "https://localhost:8080/"
        },
        "id": "r4YIOIPb5FyG",
        "outputId": "96e891ac-f739-41e4-9762-fcc84cd10161"
      },
      "outputs": [],
      "source": [
        "!pip install -q git+https://github.com/huggingface/transformers.git"
      ]
    },
    {
      "cell_type": "code",
      "execution_count": null,
      "metadata": {
        "colab": {
          "base_uri": "https://localhost:8080/"
        },
        "id": "A70wssmg5KIc",
        "outputId": "14106ad8-2319-4e4b-efbd-fb57520aaf43"
      },
      "outputs": [
        {
          "name": "stdout",
          "output_type": "stream",
          "text": [
            "Defaulting to user installation because normal site-packages is not writeable\n",
            "Requirement already satisfied: datasets in /home/p2m/.local/lib/python3.10/site-packages (2.18.0)\n",
            "Requirement already satisfied: filelock in /usr/local/lib/python3.10/dist-packages (from datasets) (3.13.3)\n",
            "Requirement already satisfied: pyarrow-hotfix in /home/p2m/.local/lib/python3.10/site-packages (from datasets) (0.6)\n",
            "Requirement already satisfied: requests>=2.19.0 in /home/p2m/.local/lib/python3.10/site-packages (from datasets) (2.31.0)\n",
            "Requirement already satisfied: packaging in /home/p2m/.local/lib/python3.10/site-packages (from datasets) (24.0)\n",
            "Requirement already satisfied: pandas in /home/p2m/.local/lib/python3.10/site-packages (from datasets) (2.2.1)\n",
            "Requirement already satisfied: huggingface-hub>=0.19.4 in /home/p2m/.local/lib/python3.10/site-packages (from datasets) (0.22.2)\n",
            "Requirement already satisfied: tqdm>=4.62.1 in /home/p2m/.local/lib/python3.10/site-packages (from datasets) (4.66.2)\n",
            "Requirement already satisfied: dill<0.3.9,>=0.3.0 in /home/p2m/.local/lib/python3.10/site-packages (from datasets) (0.3.8)\n",
            "Requirement already satisfied: xxhash in /home/p2m/.local/lib/python3.10/site-packages (from datasets) (3.4.1)\n",
            "Requirement already satisfied: pyyaml>=5.1 in /usr/lib/python3/dist-packages (from datasets) (5.4.1)\n",
            "Requirement already satisfied: fsspec[http]<=2024.2.0,>=2023.1.0 in /home/p2m/.local/lib/python3.10/site-packages (from datasets) (2024.2.0)\n",
            "Requirement already satisfied: pyarrow>=12.0.0 in /home/p2m/.local/lib/python3.10/site-packages (from datasets) (15.0.2)\n",
            "Requirement already satisfied: numpy>=1.17 in /home/p2m/.local/lib/python3.10/site-packages (from datasets) (1.26.4)\n",
            "Requirement already satisfied: multiprocess in /home/p2m/.local/lib/python3.10/site-packages (from datasets) (0.70.16)\n",
            "Requirement already satisfied: aiohttp in /home/p2m/.local/lib/python3.10/site-packages (from datasets) (3.9.3)\n",
            "Requirement already satisfied: multidict<7.0,>=4.5 in /home/p2m/.local/lib/python3.10/site-packages (from aiohttp->datasets) (6.0.5)\n",
            "Requirement already satisfied: frozenlist>=1.1.1 in /home/p2m/.local/lib/python3.10/site-packages (from aiohttp->datasets) (1.4.1)\n",
            "Requirement already satisfied: aiosignal>=1.1.2 in /home/p2m/.local/lib/python3.10/site-packages (from aiohttp->datasets) (1.3.1)\n",
            "Requirement already satisfied: attrs>=17.3.0 in /home/p2m/.local/lib/python3.10/site-packages (from aiohttp->datasets) (23.2.0)\n",
            "Requirement already satisfied: yarl<2.0,>=1.0 in /home/p2m/.local/lib/python3.10/site-packages (from aiohttp->datasets) (1.9.4)\n",
            "Requirement already satisfied: async-timeout<5.0,>=4.0 in /home/p2m/.local/lib/python3.10/site-packages (from aiohttp->datasets) (4.0.3)\n",
            "Requirement already satisfied: typing-extensions>=3.7.4.3 in /home/p2m/.local/lib/python3.10/site-packages (from huggingface-hub>=0.19.4->datasets) (4.11.0)\n",
            "Requirement already satisfied: idna<4,>=2.5 in /usr/lib/python3/dist-packages (from requests>=2.19.0->datasets) (3.3)\n",
            "Requirement already satisfied: charset-normalizer<4,>=2 in /home/p2m/.local/lib/python3.10/site-packages (from requests>=2.19.0->datasets) (3.3.2)\n",
            "Requirement already satisfied: certifi>=2017.4.17 in /usr/lib/python3/dist-packages (from requests>=2.19.0->datasets) (2020.6.20)\n",
            "Requirement already satisfied: urllib3<3,>=1.21.1 in /usr/lib/python3/dist-packages (from requests>=2.19.0->datasets) (1.26.5)\n",
            "Requirement already satisfied: pytz>=2020.1 in /usr/lib/python3/dist-packages (from pandas->datasets) (2022.1)\n",
            "Requirement already satisfied: python-dateutil>=2.8.2 in /home/p2m/.local/lib/python3.10/site-packages (from pandas->datasets) (2.9.0.post0)\n",
            "Requirement already satisfied: tzdata>=2022.7 in /home/p2m/.local/lib/python3.10/site-packages (from pandas->datasets) (2024.1)\n",
            "Requirement already satisfied: six>=1.5 in /usr/lib/python3/dist-packages (from python-dateutil>=2.8.2->pandas->datasets) (1.16.0)\n",
            "Defaulting to user installation because normal site-packages is not writeable\n",
            "Requirement already satisfied: patchify in /home/p2m/.local/lib/python3.10/site-packages (0.2.3)\n",
            "Requirement already satisfied: numpy<2,>=1 in /home/p2m/.local/lib/python3.10/site-packages (from patchify) (1.26.4)\n"
          ]
        }
      ],
      "source": [
        "!pip install datasets\n",
        "!pip install -q monai\n",
        "!pip install patchify"
      ]
    },
    {
      "cell_type": "code",
      "execution_count": null,
      "metadata": {
        "id": "i7HI48Vs5baX"
      },
      "outputs": [],
      "source": [
        "import numpy as np\n",
        "import matplotlib.pyplot as plt\n",
        "import tifffile\n",
        "import os\n",
        "from patchify import patchify \n",
        "import random\n",
        "from scipy import ndimage"
      ]
    },
    {
      "cell_type": "code",
      "execution_count": null,
      "metadata": {
        "id": "jqjNTcDyPMhQ"
      },
      "outputs": [],
      "source": [
        "import os\n",
        "import numpy as np\n",
        "from PIL import Image\n",
        "\n",
        "folder_path = r\"copy_10000/10000_images\"\n",
        "\n",
        "png_files = sorted([os.path.join(folder_path, f) for f in os.listdir(folder_path) if f.endswith('.png')])\n",
        "\n",
        "large_images = []\n",
        "\n",
        "for png_file in png_files:\n",
        "    img = Image.open(png_file)\n",
        "    img_gray = img.convert('RGB')\n",
        "    img_array = np.array(img_gray)\n",
        "    large_images.append(img_array)\n",
        "\n",
        "large_images = np.stack(large_images, axis=0)\n",
        "\n"
      ]
    },
    {
      "cell_type": "code",
      "execution_count": 25,
      "metadata": {
        "colab": {
          "base_uri": "https://localhost:8080/"
        },
        "id": "PF48yRmCLSJU",
        "outputId": "c668517e-e069-422e-95a0-c296c0b7f496"
      },
      "outputs": [
        {
          "data": {
            "text/plain": [
              "(9854, 360, 640, 3)"
            ]
          },
          "execution_count": 25,
          "metadata": {},
          "output_type": "execute_result"
        },
        {
          "ename": "",
          "evalue": "",
          "output_type": "error",
          "traceback": [
            "\u001b[1;31mThe Kernel crashed while executing code in the current cell or a previous cell. \n",
            "\u001b[1;31mPlease review the code in the cell(s) to identify a possible cause of the failure. \n",
            "\u001b[1;31mClick <a href='https://aka.ms/vscodeJupyterKernelCrash'>here</a> for more info. \n",
            "\u001b[1;31mView Jupyter <a href='command:jupyter.viewOutput'>log</a> for further details."
          ]
        }
      ],
      "source": [
        "large_images.shape\n"
      ]
    },
    {
      "cell_type": "code",
      "execution_count": null,
      "metadata": {
        "id": "tOJ5i_NrPppQ"
      },
      "outputs": [],
      "source": [
        "import os\n",
        "import numpy as np\n",
        "from PIL import Image\n",
        "\n",
        "folder_path = r\"masks_\"\n",
        "\n",
        "png_files = sorted([os.path.join(folder_path, f) for f in os.listdir(folder_path) if f.endswith('.png')])\n",
        "\n",
        "large_masks = []\n",
        "\n",
        "for png_file in png_files:\n",
        "    img = Image.open(png_file)\n",
        "    img_gray = img.convert('L')\n",
        "    img_array = np.array(img_gray)\n",
        "    large_masks.append(img_array)\n",
        "\n",
        "large_masks = np.stack(large_masks, axis=0)\n",
        "\n"
      ]
    },
    {
      "cell_type": "code",
      "execution_count": 8,
      "metadata": {
        "colab": {
          "base_uri": "https://localhost:8080/"
        },
        "id": "_soO8SKFM1Wi",
        "outputId": "2beee0b9-a43b-44f0-f4b6-5626f50b173a"
      },
      "outputs": [
        {
          "data": {
            "text/plain": [
              "(9854, 360, 640)"
            ]
          },
          "execution_count": 8,
          "metadata": {},
          "output_type": "execute_result"
        }
      ],
      "source": [
        "large_masks.shape\n"
      ]
    },
    {
      "cell_type": "code",
      "execution_count": null,
      "metadata": {
        "id": "IB9NnfhvM6VG"
      },
      "outputs": [],
      "source": [
        "patch_size = 256\n",
        "step = 256\n"
      ]
    },
    {
      "cell_type": "code",
      "execution_count": null,
      "metadata": {
        "id": "Gc3h6jUgM_qi"
      },
      "outputs": [],
      "source": [
        "all_img_patches = []\n",
        "for img in range(large_images.shape[0]):\n",
        "    large_image = large_images[img]\n",
        "    patches_img = patchify(large_image, (patch_size, patch_size), step=step)  \n",
        "\n",
        "    for i in range(patches_img.shape[0]):\n",
        "        for j in range(patches_img.shape[1]):\n",
        "\n",
        "            single_patch_img = patches_img[i,j,:,:]\n",
        "            all_img_patches.append(single_patch_img)\n",
        "\n",
        "images = np.array(all_img_patches)\n",
        "#for img in range(large_images.shape[0]):\n",
        "#    large_image = large_images[img]\n",
        "#    print(large_image.shape)\n",
        "#    patches_img = patchify(large_image, (patch_size, patch_size, 3), step=(step, step, 1))  # Step=(1, 256, 256, 1) for 256 patches means no overlap\n",
        "\n",
        "#    for i in range(patches_img.shape[0]):\n",
        "#        for j in range(patches_img.shape[1]):\n",
        "#            single_patch_img = patches_img[i, j, 0, :, :, :]  # Extracting the patch ignoring dummy channel dimension\n",
        "#            all_img_patches.append(single_patch_img)\n",
        "\n",
        "\n",
        "all_mask_patches = []\n",
        "for img in range(large_masks.shape[0]):\n",
        "    large_mask = large_masks[img]\n",
        "    patches_mask = patchify(large_mask, (patch_size, patch_size), step=step)  \n",
        "\n",
        "    for i in range(patches_mask.shape[0]):\n",
        "        for j in range(patches_mask.shape[1]):\n",
        "\n",
        "            single_patch_mask = patches_mask[i,j,:,:]\n",
        "            single_patch_mask = (single_patch_mask / 255.).astype(np.uint8)\n",
        "            all_mask_patches.append(single_patch_mask)\n",
        "\n",
        "masks = np.array(all_mask_patches)"
      ]
    },
    {
      "cell_type": "code",
      "execution_count": 11,
      "metadata": {
        "colab": {
          "base_uri": "https://localhost:8080/"
        },
        "id": "bJilxL4LNCm1",
        "outputId": "f2e7ec00-c341-46c4-a147-127b2e9e92ca"
      },
      "outputs": [
        {
          "data": {
            "text/plain": [
              "(19708, 256, 256)"
            ]
          },
          "execution_count": 11,
          "metadata": {},
          "output_type": "execute_result"
        }
      ],
      "source": [
        "\n",
        "masks.shape"
      ]
    },
    {
      "cell_type": "code",
      "execution_count": 12,
      "metadata": {},
      "outputs": [
        {
          "name": "stdout",
          "output_type": "stream",
          "text": [
            "Number of empty masks: 3799\n"
          ]
        }
      ],
      "source": [
        "num_empty_masks = sum(1 for mask in masks if mask.max() == 0)\n",
        "\n",
        "print(\"Number of empty masks:\", num_empty_masks)"
      ]
    },
    {
      "cell_type": "code",
      "execution_count": null,
      "metadata": {
        "colab": {
          "base_uri": "https://localhost:8080/"
        },
        "id": "e30_yzViRLMD",
        "outputId": "00e9d272-e587-4e6d-f398-f82abf737cdc"
      },
      "outputs": [
        {
          "name": "stdout",
          "output_type": "stream",
          "text": [
            "Image shape: (15909, 256, 256)\n",
            "Mask shape: (15909, 256, 256)\n"
          ]
        }
      ],
      "source": [
        "valid_indices = [i for i, mask in enumerate(masks)if mask.max() != 0]\n",
        "\n",
        "filtered_images = images[valid_indices]\n",
        "filtered_masks = masks[valid_indices]\n",
        "print(\"Image shape:\", filtered_images.shape)  \n",
        "print(\"Mask shape:\", filtered_masks.shape)"
      ]
    },
    {
      "cell_type": "code",
      "execution_count": null,
      "metadata": {
        "id": "thZx42QhbYXc"
      },
      "outputs": [],
      "source": [
        "num_frames = len(filtered_images) \n",
        "height, width = filtered_images[0].shape[:2]  \n",
        "num_channels = 3  \n",
        "\n",
        "filtered_images_reshaped = np.array(filtered_images).reshape(num_frames, height, width, 1) \n",
        "filtered_images = np.repeat(filtered_images_reshaped, num_channels, axis=-1) \n"
      ]
    },
    {
      "cell_type": "code",
      "execution_count": 15,
      "metadata": {},
      "outputs": [
        {
          "name": "stdout",
          "output_type": "stream",
          "text": [
            "(15909, 256, 256, 3)\n"
          ]
        }
      ],
      "source": [
        "print(filtered_images.shape)"
      ]
    },
    {
      "cell_type": "code",
      "execution_count": null,
      "metadata": {
        "id": "_JyVunRsRNQK"
      },
      "outputs": [],
      "source": [
        "from datasets import Dataset\n",
        "from PIL import Image\n",
        "\n",
        "dataset_dict = {\n",
        "    \"image\": [Image.fromarray(img) for img in filtered_images],\n",
        "    \"label\": [Image.fromarray(mask) for mask in filtered_masks],\n",
        "}\n",
        "\n",
        "dataset = Dataset.from_dict(dataset_dict)"
      ]
    },
    {
      "cell_type": "code",
      "execution_count": 17,
      "metadata": {
        "colab": {
          "base_uri": "https://localhost:8080/"
        },
        "id": "GuxXW-aWRRB8",
        "outputId": "c6f53b07-ea07-4635-8b1e-384ab62dc8e6"
      },
      "outputs": [
        {
          "data": {
            "text/plain": [
              "Dataset({\n",
              "    features: ['image', 'label'],\n",
              "    num_rows: 15909\n",
              "})"
            ]
          },
          "execution_count": 17,
          "metadata": {},
          "output_type": "execute_result"
        }
      ],
      "source": [
        "\n",
        "dataset"
      ]
    },
    {
      "cell_type": "code",
      "execution_count": null,
      "metadata": {},
      "outputs": [],
      "source": [
        "from datasets import load_dataset\n",
        "\n",
        "\n",
        "test_size = 0.2  \n",
        "\n",
        "num_test_samples = int(len(dataset) * test_size)\n",
        "\n",
        "train_dataset = dataset[:-num_test_samples]\n",
        "test_dataset = dataset[-num_test_samples:]"
      ]
    },
    {
      "cell_type": "code",
      "execution_count": 19,
      "metadata": {},
      "outputs": [],
      "source": [
        "train_dataset = Dataset.from_dict(train_dataset)"
      ]
    },
    {
      "cell_type": "code",
      "execution_count": 20,
      "metadata": {},
      "outputs": [],
      "source": [
        "test_dataset = Dataset.from_dict(test_dataset)"
      ]
    },
    {
      "cell_type": "code",
      "execution_count": 21,
      "metadata": {},
      "outputs": [
        {
          "data": {
            "text/plain": [
              "Dataset({\n",
              "    features: ['image', 'label'],\n",
              "    num_rows: 12728\n",
              "})"
            ]
          },
          "execution_count": 21,
          "metadata": {},
          "output_type": "execute_result"
        }
      ],
      "source": [
        "train_dataset"
      ]
    },
    {
      "cell_type": "code",
      "execution_count": 22,
      "metadata": {},
      "outputs": [
        {
          "data": {
            "text/plain": [
              "Dataset({\n",
              "    features: ['image', 'label'],\n",
              "    num_rows: 3181\n",
              "})"
            ]
          },
          "execution_count": 22,
          "metadata": {},
          "output_type": "execute_result"
        }
      ],
      "source": [
        "test_dataset"
      ]
    },
    {
      "cell_type": "code",
      "execution_count": null,
      "metadata": {
        "colab": {
          "base_uri": "https://localhost:8080/",
          "height": 411
        },
        "id": "sP_JcGajRR-_",
        "outputId": "12e319b2-498f-43d2-857a-2dad5ea82a09"
      },
      "outputs": [
        {
          "data": {
            "image/png": "[encoded data removed]",
            "text/plain": [
              "<Figure size 1000x500 with 2 Axes>"
            ]
          },
          "metadata": {},
          "output_type": "display_data"
        }
      ],
      "source": [
        "\n",
        "img_num = random.randint(0, filtered_images.shape[0]-1)\n",
        "example_image = dataset[img_num][\"image\"]\n",
        "example_mask = dataset[img_num][\"label\"]\n",
        "\n",
        "fig, axes = plt.subplots(1, 2, figsize=(10, 5))\n",
        "\n",
        "axes[0].imshow(np.array(example_image), cmap='gray') \n",
        "axes[0].set_title(\"Image\")\n",
        "\n",
        "axes[1].imshow(example_mask, cmap='gray')  \n",
        "axes[1].set_title(\"Mask\")\n",
        "\n",
        "for ax in axes:\n",
        "    ax.set_xticks([])\n",
        "    ax.set_yticks([])\n",
        "    ax.set_xticklabels([])\n",
        "    ax.set_yticklabels([])\n",
        "\n",
        "plt.show()"
      ]
    },
    {
      "cell_type": "code",
      "execution_count": null,
      "metadata": {
        "id": "qnD3VeZZR2Fo"
      },
      "outputs": [],
      "source": [
        "\n",
        "def get_bounding_box(ground_truth_map):\n",
        "\n",
        "  y_indices, x_indices = np.where(ground_truth_map > 0)\n",
        "  x_min, x_max = np.min(x_indices), np.max(x_indices)\n",
        "  y_min, y_max = np.min(y_indices), np.max(y_indices)\n",
        "  H, W = ground_truth_map.shape\n",
        "  x_min = max(0, x_min - np.random.randint(0, 20))\n",
        "  x_max = min(W, x_max + np.random.randint(0, 20))\n",
        "  y_min = max(0, y_min - np.random.randint(0, 20))\n",
        "  y_max = min(H, y_max + np.random.randint(0, 20))\n",
        "  bbox = [x_min, y_min, x_max, y_max]\n",
        "\n",
        "  return bbox"
      ]
    },
    {
      "cell_type": "code",
      "execution_count": null,
      "metadata": {
        "id": "3hCw7OuBSAJp"
      },
      "outputs": [],
      "source": [
        "from torch.utils.data import Dataset\n",
        "\n",
        "class SAMDataset(Dataset):\n",
        "  \"\"\"\n",
        "  This class is used to create a dataset that serves input images and masks.\n",
        "  It takes a dataset and a processor as input and overrides the __len__ and __getitem__ methods of the Dataset class.\n",
        "  \"\"\"\n",
        "  def __init__(self, dataset, processor):\n",
        "    self.dataset = dataset\n",
        "    self.processor = processor\n",
        "\n",
        "  def __len__(self):\n",
        "    return len(self.dataset)\n",
        "\n",
        "  def __getitem__(self, idx):\n",
        "    item = self.dataset[idx]\n",
        "    image = item[\"image\"]\n",
        "    ground_truth_mask = np.array(item[\"label\"])\n",
        "    \n",
        "\n",
        "    prompt = get_bounding_box(ground_truth_mask)\n",
        "\n",
        "    inputs = self.processor(image, input_boxes=[[prompt]], return_tensors=\"pt\")\n",
        "\n",
        "    inputs = {k:v.squeeze(0) for k,v in inputs.items()}\n",
        "\n",
        "    inputs[\"ground_truth_mask\"] = ground_truth_mask\n",
        "\n",
        "    return inputs\n",
        "\n"
      ]
    },
    {
      "cell_type": "code",
      "execution_count": null,
      "metadata": {
        "colab": {
          "base_uri": "https://localhost:8080/",
          "height": 173,
          "referenced_widgets": [
            "3ae6bf424ed8459fa4f93f5685de535f",
            "2d33ae60abae4f65b6795e7638488082",
            "3657c32864d7433eb42df96363dbc660",
            "7876a19263ee4a0397243af74eaea2a9",
            "709e9d90d853417e867d54ece5689979",
            "94017951e55349438115edc30c868347",
            "dd3c8fe07b2448d98587c33cef239a50",
            "8a53ed3564274cba9d16c80a5dc12238",
            "762b717e290a42d5af7b467a199e9b64",
            "06d545cb67b243068a99e7d88c003d8d",
            "91634dec7c6a4636bd0b1b6b4bd5775e"
          ]
        },
        "id": "88G0L4_lSBzV",
        "outputId": "9b7ee59b-9a3f-468e-9120-75804027b5b3"
      },
      "outputs": [],
      "source": [
        "from transformers import SamProcessor\n",
        "processor = SamProcessor.from_pretrained(\"facebook/sam-vit-base\")"
      ]
    },
    {
      "cell_type": "code",
      "execution_count": 31,
      "metadata": {
        "colab": {
          "base_uri": "https://localhost:8080/"
        },
        "id": "s4ZS5zHyXtEv",
        "outputId": "8acc41f8-ecc6-40df-9381-93c3ce4a0dab"
      },
      "outputs": [
        {
          "data": {
            "text/plain": [
              "SamProcessor:\n",
              "- image_processor: SamImageProcessor {\n",
              "  \"_valid_processor_keys\": [\n",
              "    \"images\",\n",
              "    \"segmentation_maps\",\n",
              "    \"do_resize\",\n",
              "    \"size\",\n",
              "    \"mask_size\",\n",
              "    \"resample\",\n",
              "    \"do_rescale\",\n",
              "    \"rescale_factor\",\n",
              "    \"do_normalize\",\n",
              "    \"image_mean\",\n",
              "    \"image_std\",\n",
              "    \"do_pad\",\n",
              "    \"pad_size\",\n",
              "    \"mask_pad_size\",\n",
              "    \"do_convert_rgb\",\n",
              "    \"return_tensors\",\n",
              "    \"data_format\",\n",
              "    \"input_data_format\"\n",
              "  ],\n",
              "  \"do_convert_rgb\": true,\n",
              "  \"do_normalize\": true,\n",
              "  \"do_pad\": true,\n",
              "  \"do_rescale\": true,\n",
              "  \"do_resize\": true,\n",
              "  \"image_mean\": [\n",
              "    0.485,\n",
              "    0.456,\n",
              "    0.406\n",
              "  ],\n",
              "  \"image_processor_type\": \"SamImageProcessor\",\n",
              "  \"image_std\": [\n",
              "    0.229,\n",
              "    0.224,\n",
              "    0.225\n",
              "  ],\n",
              "  \"mask_pad_size\": {\n",
              "    \"height\": 256,\n",
              "    \"width\": 256\n",
              "  },\n",
              "  \"mask_size\": {\n",
              "    \"longest_edge\": 256\n",
              "  },\n",
              "  \"pad_size\": {\n",
              "    \"height\": 1024,\n",
              "    \"width\": 1024\n",
              "  },\n",
              "  \"processor_class\": \"SamProcessor\",\n",
              "  \"resample\": 2,\n",
              "  \"rescale_factor\": 0.00392156862745098,\n",
              "  \"size\": {\n",
              "    \"longest_edge\": 1024\n",
              "  }\n",
              "}\n",
              "\n",
              "\n",
              "{\n",
              "  \"processor_class\": \"SamProcessor\"\n",
              "}"
            ]
          },
          "execution_count": 31,
          "metadata": {},
          "output_type": "execute_result"
        }
      ],
      "source": [
        "processor\n"
      ]
    },
    {
      "cell_type": "code",
      "execution_count": null,
      "metadata": {
        "id": "ro7YwyR8SJKt"
      },
      "outputs": [
        {
          "data": {
            "text/plain": [
              "<__main__.SAMDataset at 0x73c1e72195a0>"
            ]
          },
          "execution_count": 32,
          "metadata": {},
          "output_type": "execute_result"
        }
      ],
      "source": [
        "train_dataset = SAMDataset(dataset=train_dataset, processor=processor)\n",
        "\n",
        "train_dataset\n"
      ]
    },
    {
      "cell_type": "code",
      "execution_count": 34,
      "metadata": {
        "colab": {
          "base_uri": "https://localhost:8080/"
        },
        "id": "dkzqkH4KX6kR",
        "outputId": "efb18c3d-b062-41d0-cfc0-73c7f5c84176"
      },
      "outputs": [
        {
          "name": "stdout",
          "output_type": "stream",
          "text": [
            "pixel_values torch.Size([3, 1024, 1024])\n",
            "original_sizes torch.Size([2])\n",
            "reshaped_input_sizes torch.Size([2])\n",
            "input_boxes torch.Size([1, 4])\n",
            "ground_truth_mask (256, 256)\n"
          ]
        }
      ],
      "source": [
        "example = train_dataset[0]\n",
        "\n",
        "for k,v in example.items():\n",
        "  print(k,v.shape)"
      ]
    },
    {
      "cell_type": "code",
      "execution_count": null,
      "metadata": {
        "id": "Ymk1nobTbm6F"
      },
      "outputs": [],
      "source": [
        "from torch.utils.data import DataLoader\n"
      ]
    },
    {
      "cell_type": "code",
      "execution_count": 36,
      "metadata": {},
      "outputs": [
        {
          "data": {
            "text/plain": [
              "6364"
            ]
          },
          "execution_count": 36,
          "metadata": {},
          "output_type": "execute_result"
        }
      ],
      "source": [
        "train_dataloader = DataLoader(train_dataset, batch_size=2, shuffle=True, drop_last=False)\n",
        "len(train_dataloader)"
      ]
    },
    {
      "cell_type": "code",
      "execution_count": 37,
      "metadata": {
        "colab": {
          "base_uri": "https://localhost:8080/"
        },
        "id": "eEIGPl-0bq2i",
        "outputId": "c9ae6b91-543c-4eb1-f9b6-3d28e0eb4c8c"
      },
      "outputs": [
        {
          "name": "stdout",
          "output_type": "stream",
          "text": [
            "pixel_values torch.Size([2, 3, 1024, 1024])\n",
            "original_sizes torch.Size([2, 2])\n",
            "reshaped_input_sizes torch.Size([2, 2])\n",
            "input_boxes torch.Size([2, 1, 4])\n",
            "ground_truth_mask torch.Size([2, 256, 256])\n"
          ]
        }
      ],
      "source": [
        "\n",
        "batch = next(iter(train_dataloader))\n",
        "for k,v in batch.items():\n",
        "  print(k,v.shape)"
      ]
    },
    {
      "cell_type": "code",
      "execution_count": 38,
      "metadata": {
        "colab": {
          "base_uri": "https://localhost:8080/"
        },
        "id": "nTde3dHfbu0L",
        "outputId": "fbbd0dbc-fc1f-4b00-9004-1dcec7ff4e09"
      },
      "outputs": [
        {
          "data": {
            "text/plain": [
              "torch.Size([2, 256, 256])"
            ]
          },
          "execution_count": 38,
          "metadata": {},
          "output_type": "execute_result"
        }
      ],
      "source": [
        "batch[\"ground_truth_mask\"].shape"
      ]
    },
    {
      "cell_type": "code",
      "execution_count": null,
      "metadata": {
        "colab": {
          "base_uri": "https://localhost:8080/",
          "height": 81,
          "referenced_widgets": [
            "721957f0d16d4eefa8a150c37c2b79d7",
            "20a390a17af44cfcb5dc10a1d9a66f09",
            "14619023fcb445f292fc7cc3163e1ca3",
            "e21b2d1c763d4877b4e1ead29200c20d",
            "a67135609b7942868334773c86bbe51a",
            "4e89966ffbd84f02a10048b5941a9c12",
            "37ba496b32fb4c58b681dfcbae8e3141",
            "639cfb1096bc49cab660cf48fec63a0b",
            "37f17f144e2845bda7deaa12954368f0",
            "7fe5a8a8171440de8699383c557ef491",
            "d664b5cadbde4fe5a1245102ff44bdbb",
            "570ba4f208d5445c9f0e20260a8f3469",
            "c5758bfc10794e719e185a1d3ec441f1",
            "4c0d55fdaf6d47ca9c39cb19b207b2c2",
            "bac7cb81651147efa5edb4197ed36640",
            "5ca2f35b79634fb7bce9a9a2fd7e9a29",
            "8b961586dbd74522b52016e1e875e59c",
            "18a85ff2dd8d40abaf82531d6b180a13",
            "8632926de590434ea42b96ed03c00587",
            "b7753410bfab4c8d95ce15eb88235507",
            "bb9cb96f341a415d984cdd011a8faea3",
            "df82aa155fb64813b05ae841fe5b1d28"
          ]
        },
        "id": "9LPhakUibwAY",
        "outputId": "4628e7ab-9477-4c38-bc64-9cdf4170b65c"
      },
      "outputs": [],
      "source": [
        "from transformers import SamModel\n",
        "model = SamModel.from_pretrained(\"facebook/sam-vit-base\")\n",
        "\n",
        "for name, param in model.named_parameters():\n",
        "  if name.startswith(\"vision_encoder\") or name.startswith(\"prompt_encoder\"):\n",
        "    param.requires_grad_(False)"
      ]
    },
    {
      "cell_type": "code",
      "execution_count": null,
      "metadata": {
        "id": "K8aU72ljb0hP"
      },
      "outputs": [],
      "source": [
        "from torch.optim import Adam\n",
        "import monai\n",
        "\n",
        "optimizer = Adam(model.mask_decoder.parameters(), lr=1e-5, weight_decay=0)\n",
        "\n",
        "seg_loss = monai.losses.DiceCELoss(sigmoid=True, squared_pred=True, reduction='mean')"
      ]
    },
    {
      "cell_type": "code",
      "execution_count": null,
      "metadata": {
        "id": "mgTvNJ4db4p5"
      },
      "outputs": [
        {
          "name": "stderr",
          "output_type": "stream",
          "text": [
            "100%|\u2588\u2588\u2588\u2588\u2588\u2588\u2588\u2588\u2588\u2588| 6364/6364 [45:33<00:00,  2.33it/s]\n"
          ]
        },
        {
          "name": "stdout",
          "output_type": "stream",
          "text": [
            "EPOCH: 0\n",
            "Mean loss: 0.1945944916359474\n",
            "Mean accuracy: 0.9606624174088071\n"
          ]
        },
        {
          "name": "stderr",
          "output_type": "stream",
          "text": [
            "100%|\u2588\u2588\u2588\u2588\u2588\u2588\u2588\u2588\u2588\u2588| 6364/6364 [45:26<00:00,  2.33it/s]\n"
          ]
        },
        {
          "name": "stdout",
          "output_type": "stream",
          "text": [
            "EPOCH: 1\n",
            "Mean loss: 0.17307784864114098\n",
            "Mean accuracy: 0.9651711665932148\n"
          ]
        },
        {
          "name": "stderr",
          "output_type": "stream",
          "text": [
            "100%|\u2588\u2588\u2588\u2588\u2588\u2588\u2588\u2588\u2588\u2588| 6364/6364 [45:19<00:00,  2.34it/s]\n"
          ]
        },
        {
          "name": "stdout",
          "output_type": "stream",
          "text": [
            "EPOCH: 2\n",
            "Mean loss: 0.16320670280932775\n",
            "Mean accuracy: 0.9674545841948331\n"
          ]
        },
        {
          "name": "stderr",
          "output_type": "stream",
          "text": [
            "100%|\u2588\u2588\u2588\u2588\u2588\u2588\u2588\u2588\u2588\u2588| 6364/6364 [44:51<00:00,  2.36it/s]\n"
          ]
        },
        {
          "name": "stdout",
          "output_type": "stream",
          "text": [
            "EPOCH: 3\n",
            "Mean loss: 0.15658969740685671\n",
            "Mean accuracy: 0.9687604382680992\n"
          ]
        },
        {
          "name": "stderr",
          "output_type": "stream",
          "text": [
            "100%|\u2588\u2588\u2588\u2588\u2588\u2588\u2588\u2588\u2588\u2588| 6364/6364 [44:45<00:00,  2.37it/s]\n"
          ]
        },
        {
          "name": "stdout",
          "output_type": "stream",
          "text": [
            "EPOCH: 4\n",
            "Mean loss: 0.1515312810672247\n",
            "Mean accuracy: 0.9701519887601707\n"
          ]
        },
        {
          "name": "stderr",
          "output_type": "stream",
          "text": [
            "100%|\u2588\u2588\u2588\u2588\u2588\u2588\u2588\u2588\u2588\u2588| 6364/6364 [44:44<00:00,  2.37it/s]\n"
          ]
        },
        {
          "name": "stdout",
          "output_type": "stream",
          "text": [
            "EPOCH: 5\n",
            "Mean loss: 0.14636543834240115\n",
            "Mean accuracy: 0.9713210616000864\n"
          ]
        },
        {
          "name": "stderr",
          "output_type": "stream",
          "text": [
            "100%|\u2588\u2588\u2588\u2588\u2588\u2588\u2588\u2588\u2588\u2588| 6364/6364 [44:53<00:00,  2.36it/s]\n"
          ]
        },
        {
          "name": "stdout",
          "output_type": "stream",
          "text": [
            "EPOCH: 6\n",
            "Mean loss: 0.1424358891601113\n",
            "Mean accuracy: 0.9724430117795934\n"
          ]
        },
        {
          "name": "stderr",
          "output_type": "stream",
          "text": [
            "100%|\u2588\u2588\u2588\u2588\u2588\u2588\u2588\u2588\u2588\u2588| 6364/6364 [44:33<00:00,  2.38it/s]\n"
          ]
        },
        {
          "name": "stdout",
          "output_type": "stream",
          "text": [
            "EPOCH: 7\n",
            "Mean loss: 0.13992026254470624\n",
            "Mean accuracy: 0.9730003400091702\n"
          ]
        },
        {
          "name": "stderr",
          "output_type": "stream",
          "text": [
            "100%|\u2588\u2588\u2588\u2588\u2588\u2588\u2588\u2588\u2588\u2588| 6364/6364 [44:39<00:00,  2.37it/s]\n"
          ]
        },
        {
          "name": "stdout",
          "output_type": "stream",
          "text": [
            "EPOCH: 8\n",
            "Mean loss: 0.13569415701059467\n",
            "Mean accuracy: 0.974057198170219\n"
          ]
        },
        {
          "name": "stderr",
          "output_type": "stream",
          "text": [
            "100%|\u2588\u2588\u2588\u2588\u2588\u2588\u2588\u2588\u2588\u2588| 6364/6364 [44:53<00:00,  2.36it/s]\n"
          ]
        },
        {
          "name": "stdout",
          "output_type": "stream",
          "text": [
            "EPOCH: 9\n",
            "Mean loss: 0.13265597495584944\n",
            "Mean accuracy: 0.974706193023624\n"
          ]
        },
        {
          "name": "stderr",
          "output_type": "stream",
          "text": [
            "100%|\u2588\u2588\u2588\u2588\u2588\u2588\u2588\u2588\u2588\u2588| 6364/6364 [44:42<00:00,  2.37it/s]\n"
          ]
        },
        {
          "name": "stdout",
          "output_type": "stream",
          "text": [
            "EPOCH: 10\n",
            "Mean loss: 0.1305115402644409\n",
            "Mean accuracy: 0.9751645549148378\n"
          ]
        },
        {
          "name": "stderr",
          "output_type": "stream",
          "text": [
            "100%|\u2588\u2588\u2588\u2588\u2588\u2588\u2588\u2588\u2588\u2588| 6364/6364 [44:48<00:00,  2.37it/s]\n"
          ]
        },
        {
          "name": "stdout",
          "output_type": "stream",
          "text": [
            "EPOCH: 11\n",
            "Mean loss: 0.1284978212169673\n",
            "Mean accuracy: 0.9756291963108525\n"
          ]
        },
        {
          "name": "stderr",
          "output_type": "stream",
          "text": [
            "100%|\u2588\u2588\u2588\u2588\u2588\u2588\u2588\u2588\u2588\u2588| 6364/6364 [44:46<00:00,  2.37it/s]\n"
          ]
        },
        {
          "name": "stdout",
          "output_type": "stream",
          "text": [
            "EPOCH: 12\n",
            "Mean loss: 0.12722463226043879\n",
            "Mean accuracy: 0.975952128057282\n"
          ]
        },
        {
          "name": "stderr",
          "output_type": "stream",
          "text": [
            "100%|\u2588\u2588\u2588\u2588\u2588\u2588\u2588\u2588\u2588\u2588| 6364/6364 [45:10<00:00,  2.35it/s]\n"
          ]
        },
        {
          "name": "stdout",
          "output_type": "stream",
          "text": [
            "EPOCH: 13\n",
            "Mean loss: 0.12262842497299001\n",
            "Mean accuracy: 0.9769316924435024\n"
          ]
        },
        {
          "name": "stderr",
          "output_type": "stream",
          "text": [
            "100%|\u2588\u2588\u2588\u2588\u2588\u2588\u2588\u2588\u2588\u2588| 6364/6364 [44:48<00:00,  2.37it/s]"
          ]
        },
        {
          "name": "stdout",
          "output_type": "stream",
          "text": [
            "EPOCH: 14\n",
            "Mean loss: 0.1222609977309149\n",
            "Mean accuracy: 0.9770195000131201\n"
          ]
        },
        {
          "name": "stderr",
          "output_type": "stream",
          "text": [
            "\n"
          ]
        }
      ],
      "source": [
        "from tqdm import tqdm\n",
        "from statistics import mean\n",
        "import torch\n",
        "from torch.nn.functional import threshold, normalize\n",
        "from sklearn.metrics import accuracy_score\n",
        "\n",
        "num_epochs = 15\n",
        "\n",
        "device = \"cuda\" if torch.cuda.is_available() else \"cpu\"\n",
        "model.to(device)\n",
        "\n",
        "model.train()\n",
        "for epoch in range(num_epochs):\n",
        "    epoch_losses = []\n",
        "    epoch_accuracies = []  \n",
        "    for batch in tqdm(train_dataloader):\n",
        "\n",
        "        outputs = model(pixel_values=batch[\"pixel_values\"].to(device),\n",
        "                        input_boxes=batch[\"input_boxes\"].to(device),\n",
        "                        multimask_output=False)\n",
        "\n",
        "\n",
        "        predicted_masks = outputs.pred_masks.squeeze(1)\n",
        "        ground_truth_masks = batch[\"ground_truth_mask\"].float().to(device)\n",
        "        loss = seg_loss(predicted_masks, ground_truth_masks.unsqueeze(1))\n",
        "\n",
        "        optimizer.zero_grad()\n",
        "        loss.backward()\n",
        "\n",
        "        optimizer.step()\n",
        "        epoch_losses.append(loss.item())\n",
        "\n",
        "        predicted_labels = (predicted_masks > 0.7).float()\n",
        "        ground_truth_labels = (ground_truth_masks > 0.7).float()\n",
        "        accuracy = accuracy_score(ground_truth_labels.view(-1).cpu(), predicted_labels.view(-1).cpu())\n",
        "\n",
        "        epoch_accuracies.append(accuracy)\n",
        "\n",
        "    mean_accuracy = mean(epoch_accuracies)\n",
        "\n",
        "    print(f'EPOCH: {epoch}')\n",
        "    print(f'Mean loss: {mean(epoch_losses)}')\n",
        "    print(f'Mean accuracy: {mean_accuracy}')\n"
      ]
    },
    {
      "cell_type": "code",
      "execution_count": null,
      "metadata": {},
      "outputs": [
        {
          "data": {
            "image/png": "[encoded data removed]",
            "text/plain": [
              "<Figure size 640x480 with 2 Axes>"
            ]
          },
          "metadata": {},
          "output_type": "display_data"
        }
      ],
      "source": [
        "import matplotlib.pyplot as plt\n",
        "fig, ax1 = plt.subplots()\n",
        "\n",
        "color = 'tab:red'\n",
        "ax1.set_xlabel('Epochs')\n",
        "ax1.set_ylabel('Loss', color=color)\n",
        "ax1.plot(epochs, epoch_losses, color=color)\n",
        "ax1.tick_params(axis='y', labelcolor=color)\n",
        "\n",
        "ax2 = ax1.twinx()  \n",
        "color = 'tab:blue'\n",
        "ax2.set_ylabel('Accuracy', color=color)  \n",
        "ax2.plot(epochs, epoch_accuracies, color=color)\n",
        "ax2.tick_params(axis='y', labelcolor=color)\n",
        "\n",
        "fig.tight_layout()  \n",
        "plt.title('Loss and Accuracy vs Epochs')\n",
        "plt.show()"
      ]
    },
    {
      "cell_type": "code",
      "execution_count": null,
      "metadata": {
        "id": "U2t2jeFWeM33"
      },
      "outputs": [],
      "source": [
        "torch.save(model.state_dict(), \"/mnt/DD4To/Datasets/P2M/my_model\")\n"
      ]
    },
    {
      "cell_type": "code",
      "execution_count": 42,
      "metadata": {
        "id": "uHHRjZB4e8hN"
      },
      "outputs": [],
      "source": [
        "\n",
        "from transformers import SamModel, SamConfig, SamProcessor\n",
        "import torch"
      ]
    },
    {
      "cell_type": "code",
      "execution_count": null,
      "metadata": {
        "colab": {
          "base_uri": "https://localhost:8080/"
        },
        "id": "7vvi5LRAe9S4",
        "outputId": "d2f1c4e0-85cf-45b7-818c-07f4ace7c391"
      },
      "outputs": [
        {
          "data": {
            "text/plain": [
              "SamModel(\n",
              "  (shared_image_embedding): SamPositionalEmbedding()\n",
              "  (vision_encoder): SamVisionEncoder(\n",
              "    (patch_embed): SamPatchEmbeddings(\n",
              "      (projection): Conv2d(3, 768, kernel_size=(16, 16), stride=(16, 16))\n",
              "    )\n",
              "    (layers): ModuleList(\n",
              "      (0-11): 12 x SamVisionLayer(\n",
              "        (layer_norm1): LayerNorm((768,), eps=1e-06, elementwise_affine=True)\n",
              "        (attn): SamVisionAttention(\n",
              "          (qkv): Linear(in_features=768, out_features=2304, bias=True)\n",
              "          (proj): Linear(in_features=768, out_features=768, bias=True)\n",
              "        )\n",
              "        (layer_norm2): LayerNorm((768,), eps=1e-06, elementwise_affine=True)\n",
              "        (mlp): SamMLPBlock(\n",
              "          (lin1): Linear(in_features=768, out_features=3072, bias=True)\n",
              "          (lin2): Linear(in_features=3072, out_features=768, bias=True)\n",
              "          (act): GELUActivation()\n",
              "        )\n",
              "      )\n",
              "    )\n",
              "    (neck): SamVisionNeck(\n",
              "      (conv1): Conv2d(768, 256, kernel_size=(1, 1), stride=(1, 1), bias=False)\n",
              "      (layer_norm1): SamLayerNorm()\n",
              "      (conv2): Conv2d(256, 256, kernel_size=(3, 3), stride=(1, 1), padding=(1, 1), bias=False)\n",
              "      (layer_norm2): SamLayerNorm()\n",
              "    )\n",
              "  )\n",
              "  (prompt_encoder): SamPromptEncoder(\n",
              "    (shared_embedding): SamPositionalEmbedding()\n",
              "    (mask_embed): SamMaskEmbedding(\n",
              "      (activation): GELUActivation()\n",
              "      (conv1): Conv2d(1, 4, kernel_size=(2, 2), stride=(2, 2))\n",
              "      (conv2): Conv2d(4, 16, kernel_size=(2, 2), stride=(2, 2))\n",
              "      (conv3): Conv2d(16, 256, kernel_size=(1, 1), stride=(1, 1))\n",
              "      (layer_norm1): SamLayerNorm()\n",
              "      (layer_norm2): SamLayerNorm()\n",
              "    )\n",
              "    (no_mask_embed): Embedding(1, 256)\n",
              "    (point_embed): ModuleList(\n",
              "      (0-3): 4 x Embedding(1, 256)\n",
              "    )\n",
              "    (not_a_point_embed): Embedding(1, 256)\n",
              "  )\n",
              "  (mask_decoder): SamMaskDecoder(\n",
              "    (iou_token): Embedding(1, 256)\n",
              "    (mask_tokens): Embedding(4, 256)\n",
              "    (transformer): SamTwoWayTransformer(\n",
              "      (layers): ModuleList(\n",
              "        (0-1): 2 x SamTwoWayAttentionBlock(\n",
              "          (self_attn): SamAttention(\n",
              "            (q_proj): Linear(in_features=256, out_features=256, bias=True)\n",
              "            (k_proj): Linear(in_features=256, out_features=256, bias=True)\n",
              "            (v_proj): Linear(in_features=256, out_features=256, bias=True)\n",
              "            (out_proj): Linear(in_features=256, out_features=256, bias=True)\n",
              "          )\n",
              "          (layer_norm1): LayerNorm((256,), eps=1e-06, elementwise_affine=True)\n",
              "          (cross_attn_token_to_image): SamAttention(\n",
              "            (q_proj): Linear(in_features=256, out_features=128, bias=True)\n",
              "            (k_proj): Linear(in_features=256, out_features=128, bias=True)\n",
              "            (v_proj): Linear(in_features=256, out_features=128, bias=True)\n",
              "            (out_proj): Linear(in_features=128, out_features=256, bias=True)\n",
              "          )\n",
              "          (layer_norm2): LayerNorm((256,), eps=1e-06, elementwise_affine=True)\n",
              "          (mlp): SamMLPBlock(\n",
              "            (lin1): Linear(in_features=256, out_features=2048, bias=True)\n",
              "            (lin2): Linear(in_features=2048, out_features=256, bias=True)\n",
              "            (act): ReLU()\n",
              "          )\n",
              "          (layer_norm3): LayerNorm((256,), eps=1e-06, elementwise_affine=True)\n",
              "          (layer_norm4): LayerNorm((256,), eps=1e-06, elementwise_affine=True)\n",
              "          (cross_attn_image_to_token): SamAttention(\n",
              "            (q_proj): Linear(in_features=256, out_features=128, bias=True)\n",
              "            (k_proj): Linear(in_features=256, out_features=128, bias=True)\n",
              "            (v_proj): Linear(in_features=256, out_features=128, bias=True)\n",
              "            (out_proj): Linear(in_features=128, out_features=256, bias=True)\n",
              "          )\n",
              "        )\n",
              "      )\n",
              "      (final_attn_token_to_image): SamAttention(\n",
              "        (q_proj): Linear(in_features=256, out_features=128, bias=True)\n",
              "        (k_proj): Linear(in_features=256, out_features=128, bias=True)\n",
              "        (v_proj): Linear(in_features=256, out_features=128, bias=True)\n",
              "        (out_proj): Linear(in_features=128, out_features=256, bias=True)\n",
              "      )\n",
              "      (layer_norm_final_attn): LayerNorm((256,), eps=1e-05, elementwise_affine=True)\n",
              "    )\n",
              "    (upscale_conv1): ConvTranspose2d(256, 64, kernel_size=(2, 2), stride=(2, 2))\n",
              "    (upscale_conv2): ConvTranspose2d(64, 32, kernel_size=(2, 2), stride=(2, 2))\n",
              "    (upscale_layer_norm): SamLayerNorm()\n",
              "    (activation): GELU(approximate='none')\n",
              "    (output_hypernetworks_mlps): ModuleList(\n",
              "      (0-3): 4 x SamFeedForward(\n",
              "        (activation): ReLU()\n",
              "        (proj_in): Linear(in_features=256, out_features=256, bias=True)\n",
              "        (proj_out): Linear(in_features=256, out_features=32, bias=True)\n",
              "        (layers): ModuleList(\n",
              "          (0): Linear(in_features=256, out_features=256, bias=True)\n",
              "        )\n",
              "      )\n",
              "    )\n",
              "    (iou_prediction_head): SamFeedForward(\n",
              "      (activation): ReLU()\n",
              "      (proj_in): Linear(in_features=256, out_features=256, bias=True)\n",
              "      (proj_out): Linear(in_features=256, out_features=4, bias=True)\n",
              "      (layers): ModuleList(\n",
              "        (0): Linear(in_features=256, out_features=256, bias=True)\n",
              "      )\n",
              "    )\n",
              "  )\n",
              ")"
            ]
          },
          "execution_count": 43,
          "metadata": {},
          "output_type": "execute_result"
        }
      ],
      "source": [
        "model_config = SamConfig.from_pretrained(\"facebook/sam-vit-base\")\n",
        "processor = SamProcessor.from_pretrained(\"facebook/sam-vit-base\")\n",
        "\n",
        "my_mito_model = SamModel(config=model_config)\n",
        "\n",
        "model_weights_path = \"/mnt/DD4To/Datasets/P2M/my_model\"\n",
        "device = torch.device('cpu')  \n",
        "my_mito_model.load_state_dict(torch.load(model_weights_path))\n",
        "\n",
        "my_mito_model.eval()\n",
        "device = \"cuda\" if torch.cuda.is_available() else \"cpu\"\n",
        "my_mito_model.to(device)\n"
      ]
    },
    {
      "cell_type": "code",
      "execution_count": null,
      "metadata": {},
      "outputs": [
        {
          "name": "stdout",
          "output_type": "stream",
          "text": [
            "Average IoU: 0.8402120335335218\n",
            "Average Loss: 0.15779942923977314\n"
          ]
        }
      ],
      "source": [
        "import os\n",
        "import numpy as np\n",
        "import random\n",
        "import torch\n",
        "import matplotlib.pyplot as plt\n",
        "\n",
        "def calculate_iou(pred_mask, true_mask):\n",
        "    intersection = np.logical_and(pred_mask, true_mask)\n",
        "    union = np.logical_or(pred_mask, true_mask)\n",
        "    iou_score = np.sum(intersection) / np.sum(union)\n",
        "    return iou_score\n",
        "\n",
        "output_directory = \"predicted_masks_malek\"\n",
        "os.makedirs(output_directory, exist_ok=True)\n",
        "\n",
        "iou_scores = []\n",
        "losses = []\n",
        "\n",
        "for idx in range(len(test_dataset)):\n",
        "    test_image = test_dataset[idx][\"image\"]\n",
        "\n",
        "    ground_truth_mask = np.array(test_dataset[idx][\"label\"])\n",
        "    prompt = get_bounding_box(ground_truth_mask)\n",
        "\n",
        "    inputs = processor(test_image, input_boxes=[[prompt]], return_tensors=\"pt\")\n",
        "\n",
        "    inputs = {k: v.to(device) for k, v in inputs.items()}\n",
        "\n",
        "    with torch.no_grad():\n",
        "        outputs = my_mito_model(**inputs, multimask_output=False)\n",
        "\n",
        "    medsam_seg_prob = torch.sigmoid(outputs.pred_masks.squeeze(1))\n",
        "\n",
        "    medsam_seg_prob = medsam_seg_prob.cpu().numpy().squeeze()\n",
        "    medsam_seg = (medsam_seg_prob > 0.5).astype(np.uint8)\n",
        "\n",
        "    output_filename = os.path.join(output_directory, f\"predicted_mask_{idx}.png\")\n",
        "    plt.imsave(output_filename, medsam_seg, cmap='gray')\n",
        "\n",
        "\n",
        "    iou = calculate_iou(medsam_seg, ground_truth_mask)\n",
        "    iou_scores.append(iou)\n",
        "    ground_truth_mask_tensor = torch.tensor(ground_truth_mask, dtype=torch.float32, device=device).unsqueeze(0).unsqueeze(0)\n",
        "    loss = seg_loss(outputs.pred_masks.squeeze(1), ground_truth_mask_tensor)\n",
        "    losses.append(loss.item())\n",
        "\n",
        "average_iou = np.mean(iou_scores)\n",
        "print(f\"Average IoU: {average_iou}\")\n",
        "average_loss = np.mean(losses)\n",
        "print(f\"Average Loss: {average_loss}\")\n"
      ]
    }
  ],
  "metadata": {
    "accelerator": "GPU",
    "colab": {
      "gpuType": "T4",
      "provenance": []
    },
    "kernelspec": {
      "display_name": "Python 3",
      "name": "python3"
    },
    "language_info": {
      "codemirror_mode": {
        "name": "ipython",
        "version": 3
      },
      "file_extension": ".py",
      "mimetype": "text/x-python",
      "name": "python",
      "nbconvert_exporter": "python",
      "pygments_lexer": "ipython3",
      "version": "3.10.12"
    }
  },
  "nbformat": 4,
  "nbformat_minor": 0
}
